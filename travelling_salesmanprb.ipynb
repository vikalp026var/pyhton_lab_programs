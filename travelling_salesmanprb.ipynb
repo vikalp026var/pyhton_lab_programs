{
 "cells": [
  {
   "cell_type": "code",
   "execution_count": 3,
   "id": "ea5ac6bd",
   "metadata": {},
   "outputs": [],
   "source": [
    "import random"
   ]
  },
  {
   "cell_type": "code",
   "execution_count": 4,
   "id": "ba0edc2c",
   "metadata": {},
   "outputs": [],
   "source": [
    "\n",
    "def randomSolution(tsp):\n",
    "    cities = list(range(len(tsp)))\n",
    "    solution = []\n",
    "\n",
    "    for i in range(len(tsp)):\n",
    "        randomCity = cities[random.randint(0, len(cities) - 1)]\n",
    "        solution.append(randomCity)\n",
    "        cities.remove(randomCity)\n",
    "\n",
    "    return solution\n"
   ]
  },
  {
   "cell_type": "code",
   "execution_count": 5,
   "id": "cf1fd635",
   "metadata": {},
   "outputs": [],
   "source": [
    "def routeLength(tsp, solution):\n",
    "    routeLength = 0\n",
    "    for i in range(len(solution)):\n",
    "        routeLength += tsp[solution[i - 1]][solution[i]]\n",
    "    return routeLength\n"
   ]
  },
  {
   "cell_type": "code",
   "execution_count": 6,
   "id": "2c920380",
   "metadata": {},
   "outputs": [],
   "source": [
    "def getNeighbours(solution):\n",
    "    neighbours = []\n",
    "    for i in range(len(solution)):\n",
    "        for j in range(i + 1, len(solution)):\n",
    "            neighbour = solution.copy()\n",
    "            neighbour[i] = solution[j]\n",
    "            neighbour[j] = solution[i]\n",
    "            neighbours.append(neighbour)\n",
    "    return neighbours\n"
   ]
  },
  {
   "cell_type": "code",
   "execution_count": 7,
   "id": "5664f66b",
   "metadata": {},
   "outputs": [],
   "source": [
    "def getBestNeighbour(tsp, neighbours):\n",
    "    bestRouteLength = routeLength(tsp, neighbours[0])\n",
    "    bestNeighbour = neighbours[0]\n",
    "    for neighbour in neighbours:\n",
    "        currentRouteLength = routeLength(tsp, neighbour)\n",
    "        if currentRouteLength < bestRouteLength:\n",
    "            bestRouteLength = currentRouteLength\n",
    "            bestNeighbour = neighbour\n",
    "    return bestNeighbour, bestRouteLength\n"
   ]
  },
  {
   "cell_type": "code",
   "execution_count": 8,
   "id": "55474447",
   "metadata": {},
   "outputs": [],
   "source": [
    "def hillClimbing(tsp):\n",
    "    currentSolution = randomSolution(tsp)\n",
    "    currentRouteLength = routeLength(tsp, currentSolution)\n",
    "    neighbours = getNeighbours(currentSolution)\n",
    "    bestNeighbour, bestNeighbourRouteLength = getBestNeighbour(tsp, neighbours)\n",
    "\n",
    "    while bestNeighbourRouteLength < currentRouteLength:\n",
    "        currentSolution = bestNeighbour\n",
    "        currentRouteLength = bestNeighbourRouteLength\n",
    "        neighbours = getNeighbours(currentSolution)\n",
    "        bestNeighbour, bestNeighbourRouteLength = getBestNeighbour(tsp, neighbours)\n",
    "\n",
    "    return currentSolution, currentRouteLength\n"
   ]
  },
  {
   "cell_type": "code",
   "execution_count": 11,
   "id": "c5826921",
   "metadata": {},
   "outputs": [],
   "source": [
    "def main():\n",
    "#     tsp = [\n",
    "#         [0, 400, 500, 300],\n",
    "#         [400, 0, 300, 500],\n",
    "#         [500, 300, 0, 400],\n",
    "#         [300, 500, 400, 0]\n",
    "#     ]\n",
    "    tsp=[]\n",
    "    print(\"how many salesman visit the cities:\")\n",
    "    print(\"Please provide the Cost of one city to another city \")\n",
    "    x=int(input())\n",
    "    for i in range(x):\n",
    "        r=[]\n",
    "        for j in range(x):\n",
    "            print(\"Cost of \",i,\" to \",j,\" City \")\n",
    "            r.append(int(input()))\n",
    "        tsp.append(r)\n",
    "    print(\"Please check cost of one city to another that you provide\")\n",
    "    for i in range(x):\n",
    "        for j in range(x):\n",
    "            print(tsp[i][j],end=\" \")\n",
    "        print()\n",
    "    print(\"Salesman Visit one city to another only one and find the best route with minimum cost is that \")\n",
    "            \n",
    "    print(hillClimbing(tsp))"
   ]
  },
  {
   "cell_type": "code",
   "execution_count": 12,
   "id": "62261def",
   "metadata": {},
   "outputs": [
    {
     "name": "stdout",
     "output_type": "stream",
     "text": [
      "how many salesman visit the cities:\n",
      "Please provide the Cost of one city to another city \n",
      "4\n",
      "Cost of  0  to  0  City \n",
      "0\n",
      "Cost of  0  to  1  City \n",
      "40\n",
      "Cost of  0  to  2  City \n",
      "30\n",
      "Cost of  0  to  3  City \n",
      "70\n",
      "Cost of  1  to  0  City \n",
      "80\n",
      "Cost of  1  to  1  City \n",
      "60\n",
      "Cost of  1  to  2  City \n",
      "70\n",
      "Cost of  1  to  3  City \n",
      "80\n",
      "Cost of  2  to  0  City \n",
      "45\n",
      "Cost of  2  to  1  City \n",
      "43\n",
      "Cost of  2  to  2  City \n",
      "96\n",
      "Cost of  2  to  3  City \n",
      "70\n",
      "Cost of  3  to  0  City \n",
      "30\n",
      "Cost of  3  to  1  City \n",
      "52\n",
      "Cost of  3  to  2  City \n",
      "56\n",
      "Cost of  3  to  3  City \n",
      "54\n",
      "Please check cost of one city to another that you provide\n",
      "0 40 30 70 \n",
      "80 60 70 80 \n",
      "45 43 96 70 \n",
      "30 52 56 54 \n",
      "Salesman Visit one city to another only one and find the best route with minimum cost is that \n",
      "([3, 0, 2, 1], 183)\n"
     ]
    }
   ],
   "source": [
    "if __name__ == \"__main__\":\n",
    "    main()"
   ]
  },
  {
   "cell_type": "code",
   "execution_count": null,
   "id": "84d1bbd8",
   "metadata": {},
   "outputs": [],
   "source": []
  }
 ],
 "metadata": {
  "kernelspec": {
   "display_name": "Python 3 (ipykernel)",
   "language": "python",
   "name": "python3"
  },
  "language_info": {
   "codemirror_mode": {
    "name": "ipython",
    "version": 3
   },
   "file_extension": ".py",
   "mimetype": "text/x-python",
   "name": "python",
   "nbconvert_exporter": "python",
   "pygments_lexer": "ipython3",
   "version": "3.9.12"
  }
 },
 "nbformat": 4,
 "nbformat_minor": 5
}
